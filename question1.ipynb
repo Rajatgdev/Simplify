{
 "cells": [
  {
   "cell_type": "code",
   "execution_count": 8,
   "id": "bd5f8671-2a40-4655-9e65-88550bb6f2db",
   "metadata": {},
   "outputs": [
    {
     "name": "stdin",
     "output_type": "stream",
     "text": [
      "Enter an integer:  1234567890\n"
     ]
    },
    {
     "name": "stdout",
     "output_type": "stream",
     "text": [
      "Formatted Indian Currency:  1,23,45,67,890\n"
     ]
    }
   ],
   "source": [
    "def comma(number):\n",
    "    n = str(number)\n",
    "    hund = n[-3:]\n",
    "    lakh = n[:-3]\n",
    "\n",
    "    if lakh != '':\n",
    "        lakh_comma = []\n",
    "        i = len(lakh)\n",
    "        while i > 0:\n",
    "            start_index = max(i-2, 0)\n",
    "            lakh_comma.append(lakh[start_index:i])\n",
    "            i -= 2\n",
    "        lakh_comma.reverse()\n",
    "        lakh = ','.join(lakh_comma)\n",
    "\n",
    "    num = lakh + ',' + hund if lakh else hund\n",
    "    return num\n",
    "\n",
    "number = int(input(\"Enter an integer: \"))\n",
    "print(\"Formatted Indian Currency: \", comma(number))\n"
   ]
  },
  {
   "cell_type": "code",
   "execution_count": null,
   "id": "20745374-928a-4f7a-be5e-9e8ac542550c",
   "metadata": {},
   "outputs": [],
   "source": []
  }
 ],
 "metadata": {
  "kernelspec": {
   "display_name": "Python 3 (ipykernel)",
   "language": "python",
   "name": "python3"
  },
  "language_info": {
   "codemirror_mode": {
    "name": "ipython",
    "version": 3
   },
   "file_extension": ".py",
   "mimetype": "text/x-python",
   "name": "python",
   "nbconvert_exporter": "python",
   "pygments_lexer": "ipython3",
   "version": "3.11.7"
  }
 },
 "nbformat": 4,
 "nbformat_minor": 5
}
