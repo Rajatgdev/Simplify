{
 "cells": [
  {
   "cell_type": "code",
   "execution_count": 3,
   "id": "856efb6f-ec2a-4a7d-bbf6-4e928f89d6a3",
   "metadata": {},
   "outputs": [
    {
     "name": "stdin",
     "output_type": "stream",
     "text": [
      " 1\n",
      " 3 4\n",
      " 6 5 3 2\n"
     ]
    },
    {
     "name": "stdout",
     "output_type": "stream",
     "text": [
      "2\n"
     ]
    }
   ],
   "source": [
    "def shots(T, test_cases):\n",
    "    res = []\n",
    "    for i in range(T):\n",
    "        N, K = test_cases[i][0]\n",
    "        heights = test_cases[i][1]\n",
    "        c = 0\n",
    "        for height in heights:\n",
    "            if height > K:\n",
    "                c += 1\n",
    "        res.append(c)\n",
    "    for result in res:\n",
    "        print(result)\n",
    "\n",
    "T = int(input())\n",
    "test_cases = []\n",
    "for _ in range(T):\n",
    "    N, K = map(int, input().split())\n",
    "    heights = list(map(int, input().split()))\n",
    "    test_cases.append(((N, K), heights))\n",
    "\n",
    "shots(T, test_cases)"
   ]
  },
  {
   "cell_type": "code",
   "execution_count": null,
   "id": "4496d34f-7f17-4e83-8016-6dbc2aa57444",
   "metadata": {},
   "outputs": [],
   "source": []
  }
 ],
 "metadata": {
  "kernelspec": {
   "display_name": "Python 3 (ipykernel)",
   "language": "python",
   "name": "python3"
  },
  "language_info": {
   "codemirror_mode": {
    "name": "ipython",
    "version": 3
   },
   "file_extension": ".py",
   "mimetype": "text/x-python",
   "name": "python",
   "nbconvert_exporter": "python",
   "pygments_lexer": "ipython3",
   "version": "3.11.7"
  }
 },
 "nbformat": 4,
 "nbformat_minor": 5
}
